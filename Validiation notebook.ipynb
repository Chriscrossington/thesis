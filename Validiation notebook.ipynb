{
 "cells": [
  {
   "cell_type": "code",
   "execution_count": 2,
   "metadata": {},
   "outputs": [
    {
     "name": "stdout",
     "output_type": "stream",
     "text": [
      "{'0': 980, '1': 1135, '2': 1032, '3': 1010, '4': 982, '5': 892, '6': 958, '7': 1028, '8': 974, '9': 1009}\n",
      "{'0': 9020, '1': 8865, '2': 8968, '3': 8990, '4': 9018, '5': 9108, '6': 9042, '7': 8972, '8': 9026, '9': 8991}\n"
     ]
    }
   ],
   "source": [
    "# Make Validation samples\n",
    "import mnist\n",
    "import numpy as np\n",
    "import codecs\n",
    "\n",
    "test_images = mnist.test_images()\n",
    "test_labels = mnist.test_labels()\n",
    "\n",
    "testsamples = test_images.reshape(\n",
    "    (test_images.shape[0], test_images.shape[1] * test_images.shape[2])\n",
    ")\n",
    "\n",
    "testlabels = np.zeros((10000,10), dtype=int)\n",
    "for i in range(len(test_labels)):\n",
    "    testlabels[i,test_labels[i]] = 1\n",
    "    \n",
    "invertdict={}\n",
    "mydict = {}\n",
    "for i in range(10):\n",
    "    count = 0\n",
    "    for n in range(len(testsamples)):\n",
    "        if testlabels[n,i] == 1:\n",
    "            count +=1\n",
    "    mydict[str(i)] = count\n",
    "    invertdict[str(i)] = len(testsamples) - count \n",
    "print(mydict)\n",
    "print(invertdict)\n"
   ]
  },
  {
   "cell_type": "code",
   "execution_count": 1,
   "metadata": {},
   "outputs": [
    {
     "ename": "NameError",
     "evalue": "name 'testsamples' is not defined",
     "output_type": "error",
     "traceback": [
      "\u001b[1;31m---------------------------------------------------------------------------\u001b[0m",
      "\u001b[1;31mNameError\u001b[0m                                 Traceback (most recent call last)",
      "\u001b[1;32m<ipython-input-1-b2a62b819cbf>\u001b[0m in \u001b[0;36m<module>\u001b[1;34m()\u001b[0m\n\u001b[0;32m      7\u001b[0m \u001b[1;32mfor\u001b[0m \u001b[0mi\u001b[0m \u001b[1;32min\u001b[0m \u001b[0mrange\u001b[0m\u001b[1;33m(\u001b[0m\u001b[1;36m10\u001b[0m\u001b[1;33m)\u001b[0m\u001b[1;33m:\u001b[0m\u001b[1;33m\u001b[0m\u001b[0m\n\u001b[0;32m      8\u001b[0m     \u001b[0mcount\u001b[0m \u001b[1;33m=\u001b[0m \u001b[1;36m0\u001b[0m\u001b[1;33m\u001b[0m\u001b[0m\n\u001b[1;32m----> 9\u001b[1;33m     \u001b[1;32mfor\u001b[0m \u001b[0mn\u001b[0m \u001b[1;32min\u001b[0m \u001b[0mrange\u001b[0m\u001b[1;33m(\u001b[0m\u001b[0mlen\u001b[0m\u001b[1;33m(\u001b[0m\u001b[0mtestsamples\u001b[0m\u001b[1;33m)\u001b[0m\u001b[1;33m)\u001b[0m\u001b[1;33m:\u001b[0m\u001b[1;33m\u001b[0m\u001b[0m\n\u001b[0m\u001b[0;32m     10\u001b[0m         \u001b[1;32mif\u001b[0m \u001b[0mtestlabels\u001b[0m\u001b[1;33m[\u001b[0m\u001b[0mn\u001b[0m\u001b[1;33m,\u001b[0m\u001b[0mi\u001b[0m\u001b[1;33m]\u001b[0m \u001b[1;33m==\u001b[0m \u001b[1;36m1\u001b[0m\u001b[1;33m:\u001b[0m\u001b[1;33m\u001b[0m\u001b[0m\n\u001b[0;32m     11\u001b[0m             \u001b[0mcount\u001b[0m \u001b[1;33m+=\u001b[0m\u001b[1;36m1\u001b[0m\u001b[1;33m\u001b[0m\u001b[0m\n",
      "\u001b[1;31mNameError\u001b[0m: name 'testsamples' is not defined"
     ]
    }
   ],
   "source": []
  },
  {
   "cell_type": "code",
   "execution_count": 36,
   "metadata": {},
   "outputs": [],
   "source": [
    "out_len = 1\n",
    "h2 = 10\n",
    "h1 = 10\n",
    "N= 1000\n",
    "\n",
    "for i in range(1):\n",
    "    with open('results/Integer_NN/'+str(N)+'/Architecture_Class_'+str(i)+'.txt','r') as f:\n",
    "        reader = f.read()\n",
    "        classifier = eval(reader)\n",
    "    \n",
    "        count_true = 0\n",
    "        count_truepos = 0\n",
    "        count_trueneg = 0\n",
    "\n",
    "        count_false = 0\n",
    "        count_falsepos = 0\n",
    "        count_falseneg = 0\n",
    "\n",
    "        for n in range(len(testsamples)):\n",
    "            zeta1=np.zeros(h1)\n",
    "            for r in range(h1):\n",
    "                test1 = sum(testsamples[n,m] * classifier['w1'][(m,r)] for m in range(len(testsamples[0])))\n",
    "\n",
    "                if test1 >= classifier['theta1'][r]:\n",
    "                    zeta1[r] = 1\n",
    "\n",
    "            zeta2 = np.zeros(h2)\n",
    "            for s in range(h2): \n",
    "                test2 = sum(zeta1[r]*classifier['w2'][(r,s)] for r in range(h1))\n",
    "\n",
    "                if test2 >= classifier['theta2'][s]:\n",
    "                    zeta2[s] = 1\n",
    "\n",
    "            test3 = sum(zeta2[s]* classifier['w3'][s] for s in range(h2))\n",
    "\n",
    "            if test3 >= classifier['theta3'][0]:\n",
    "                out = 1\n",
    "            else:\n",
    "                out = 0\n",
    "\n",
    "            if out == testlabels[n,i]:\n",
    "                count_true += 1\n",
    "                if testlabels[n,i] == 1:\n",
    "                    count_truepos +=1\n",
    "\n",
    "                if testlabels[n,i] == 0:\n",
    "                    count_trueneg +=1\n",
    "\n",
    "            else:\n",
    "                count_false += 1\n",
    "                if testlabels[n,i] == 0:\n",
    "                    count_falsepos +=1\n",
    "\n",
    "                if testlabels[n,i] == 1:\n",
    "                    count_falseneg +=1\n",
    "            \n",
    "            \n",
    "    with codecs.open('results/Integer_NN/'+str(N)+'/validation/Validation_Class_'+str(i)+'.txt', 'w+', 'utf-8') as f:\n",
    "        print(\"Validation results for >>Class \"+ str(i) +\"<<:\\n\\n\"\n",
    "              \"No° of true samples: \" + str(mydict[str(i)])+\"\\n\"\n",
    "              \"No° of false samples: \" + str(invertdict[str(i)])+\"\\n\"\n",
    "              \"No° of true classifications: \" + str(count_true)+\"\\n\"\n",
    "              \"No° of false classifications: \" + str(count_false)+\"\\n\"\n",
    "              \"Prevalence: \" + str(mydict[str(i)]/len(testsamples))+\"\\n\"\n",
    "              \"Accuracy: \" + str(count_true/len(testsamples))+\"\\n\\n\"\n",
    "\n",
    "              \"Confusion Matrix:\\n\"\n",
    "              \"     \" + \" Pos: \" + \"     \" + \" Neg: \\n\"\n",
    "              \" Pos  \" + str(count_truepos) + \"       \" + str(count_falsepos)+\"\\n\"\n",
    "              \" Neg  \" + str(count_falseneg) + \"       \" + str(count_trueneg)+\"\\n\\n\"\n",
    "        , file = f)\n",
    "        "
   ]
  },
  {
   "cell_type": "code",
   "execution_count": 21,
   "metadata": {},
   "outputs": [
    {
     "ename": "ZeroDivisionError",
     "evalue": "division by zero",
     "output_type": "error",
     "traceback": [
      "\u001b[1;31m---------------------------------------------------------------------------\u001b[0m",
      "\u001b[1;31mZeroDivisionError\u001b[0m                         Traceback (most recent call last)",
      "\u001b[1;32m<ipython-input-21-4e579ceebab4>\u001b[0m in \u001b[0;36m<module>\u001b[1;34m()\u001b[0m\n\u001b[0;32m     84\u001b[0m               \u001b[1;34m\"Positive Likelihood Ratio: \"\u001b[0m \u001b[1;33m+\u001b[0m \u001b[0mstr\u001b[0m\u001b[1;33m(\u001b[0m\u001b[0mround\u001b[0m\u001b[1;33m(\u001b[0m\u001b[1;33m(\u001b[0m\u001b[0mcount_truepos\u001b[0m\u001b[1;33m/\u001b[0m\u001b[0mmydict\u001b[0m\u001b[1;33m[\u001b[0m\u001b[0mstr\u001b[0m\u001b[1;33m(\u001b[0m\u001b[0mi\u001b[0m\u001b[1;33m)\u001b[0m\u001b[1;33m]\u001b[0m\u001b[1;33m)\u001b[0m\u001b[1;33m/\u001b[0m\u001b[1;33m(\u001b[0m\u001b[0mcount_falsepos\u001b[0m\u001b[1;33m/\u001b[0m\u001b[0minvertdict\u001b[0m\u001b[1;33m[\u001b[0m\u001b[0mstr\u001b[0m\u001b[1;33m(\u001b[0m\u001b[0mi\u001b[0m\u001b[1;33m)\u001b[0m\u001b[1;33m]\u001b[0m\u001b[1;33m)\u001b[0m \u001b[1;33m,\u001b[0m \u001b[1;36m3\u001b[0m\u001b[1;33m)\u001b[0m\u001b[1;33m)\u001b[0m \u001b[1;33m+\u001b[0m \u001b[1;34m\"\\n\"\u001b[0m\u001b[1;33m\u001b[0m\u001b[0m\n\u001b[0;32m     85\u001b[0m               \u001b[1;34m\"Negative Likelihood Ratio: \"\u001b[0m \u001b[1;33m+\u001b[0m \u001b[0mstr\u001b[0m\u001b[1;33m(\u001b[0m\u001b[0mround\u001b[0m\u001b[1;33m(\u001b[0m\u001b[1;33m(\u001b[0m\u001b[0mcount_falseneg\u001b[0m\u001b[1;33m/\u001b[0m\u001b[0mmydict\u001b[0m\u001b[1;33m[\u001b[0m\u001b[0mstr\u001b[0m\u001b[1;33m(\u001b[0m\u001b[0mi\u001b[0m\u001b[1;33m)\u001b[0m\u001b[1;33m]\u001b[0m\u001b[1;33m)\u001b[0m\u001b[1;33m/\u001b[0m\u001b[1;33m(\u001b[0m\u001b[0mcount_trueneg\u001b[0m\u001b[1;33m/\u001b[0m\u001b[0minvertdict\u001b[0m\u001b[1;33m[\u001b[0m\u001b[0mstr\u001b[0m\u001b[1;33m(\u001b[0m\u001b[0mi\u001b[0m\u001b[1;33m)\u001b[0m\u001b[1;33m]\u001b[0m\u001b[1;33m)\u001b[0m\u001b[1;33m,\u001b[0m \u001b[1;36m3\u001b[0m\u001b[1;33m)\u001b[0m\u001b[1;33m)\u001b[0m \u001b[1;33m+\u001b[0m \u001b[1;34m\"\\n\"\u001b[0m\u001b[1;33m\u001b[0m\u001b[0m\n\u001b[1;32m---> 86\u001b[1;33m               \u001b[1;34m\"Diagnostic Odds Ratio: \"\u001b[0m \u001b[1;33m+\u001b[0m \u001b[0mstr\u001b[0m\u001b[1;33m(\u001b[0m\u001b[0mround\u001b[0m\u001b[1;33m(\u001b[0m\u001b[1;33m(\u001b[0m\u001b[1;33m(\u001b[0m\u001b[0mcount_truepos\u001b[0m\u001b[1;33m/\u001b[0m\u001b[0mmydict\u001b[0m\u001b[1;33m[\u001b[0m\u001b[0mstr\u001b[0m\u001b[1;33m(\u001b[0m\u001b[0mi\u001b[0m\u001b[1;33m)\u001b[0m\u001b[1;33m]\u001b[0m\u001b[1;33m)\u001b[0m\u001b[1;33m/\u001b[0m\u001b[1;33m(\u001b[0m\u001b[0mcount_falsepos\u001b[0m\u001b[1;33m/\u001b[0m\u001b[0minvertdict\u001b[0m\u001b[1;33m[\u001b[0m\u001b[0mstr\u001b[0m\u001b[1;33m(\u001b[0m\u001b[0mi\u001b[0m\u001b[1;33m)\u001b[0m\u001b[1;33m]\u001b[0m\u001b[1;33m)\u001b[0m\u001b[1;33m)\u001b[0m\u001b[1;33m/\u001b[0m\u001b[1;33m(\u001b[0m\u001b[1;33m(\u001b[0m\u001b[0mcount_falseneg\u001b[0m\u001b[1;33m/\u001b[0m\u001b[0mmydict\u001b[0m\u001b[1;33m[\u001b[0m\u001b[0mstr\u001b[0m\u001b[1;33m(\u001b[0m\u001b[0mi\u001b[0m\u001b[1;33m)\u001b[0m\u001b[1;33m]\u001b[0m\u001b[1;33m)\u001b[0m\u001b[1;33m/\u001b[0m\u001b[1;33m(\u001b[0m\u001b[0mcount_trueneg\u001b[0m\u001b[1;33m/\u001b[0m\u001b[0minvertdict\u001b[0m\u001b[1;33m[\u001b[0m\u001b[0mstr\u001b[0m\u001b[1;33m(\u001b[0m\u001b[0mi\u001b[0m\u001b[1;33m)\u001b[0m\u001b[1;33m]\u001b[0m\u001b[1;33m)\u001b[0m\u001b[1;33m)\u001b[0m \u001b[1;33m,\u001b[0m \u001b[1;36m3\u001b[0m\u001b[1;33m)\u001b[0m\u001b[1;33m)\u001b[0m \u001b[1;33m+\u001b[0m \u001b[1;34m\"\\n\\n\"\u001b[0m\u001b[1;33m\u001b[0m\u001b[0m\n\u001b[0m\u001b[0;32m     87\u001b[0m \u001b[1;33m\u001b[0m\u001b[0m\n\u001b[0;32m     88\u001b[0m               \u001b[1;31m#\"F1-Score: \" + str(round(2*((count_truepos/(count_truepos+count_falsepos))*count_truepos/mydict[str(i)])/((count_truepos/(count_truepos+count_falsepos))+count_truepos/mydict[str(i)]) , 3)) + \"\\n\\n\\n\"\u001b[0m\u001b[1;33m\u001b[0m\u001b[1;33m\u001b[0m\u001b[0m\n",
      "\u001b[1;31mZeroDivisionError\u001b[0m: division by zero"
     ]
    }
   ],
   "source": [
    "              \"Some measures of goodness for the given NN: \\n\"\n",
    "              \"True Positive Rate (Recall): \" + str(round(count_truepos/mydict[str(i)]*100 , 3)) + \"%\\n\"\n",
    "              \"False Positive Rate (Fall-out): \" + str(round(count_falsepos/invertdict[str(i)]*100 , 3))+\"%\\n\"\n",
    "              \"False Negative Rate (Miss rate): \" + str(round(count_falseneg/mydict[str(i)]*100 , 3)) + \"% \\n\"\n",
    "              \"True Negative Rate (Specificity): \" + str(round(count_trueneg/invertdict[str(i)]*100 , 3))+\"%\\n\\n\"\n",
    "\n",
    "              \"Positive Predictive Value (Precision): \" + str(round(count_truepos/(count_truepos+count_falsepos)*100 , 3))+ \"% \\n\"\n",
    "              \"False Discovery Rate: \" + str(round(count_falsepos/(count_truepos+count_falsepos)*100 , 3))+ \"% \\n\"\n",
    "              \"False Omission Rate: \" + str(round(count_falseneg/(count_falseneg+count_trueneg)*100 , 3))+ \"% \\n\"\n",
    "              \"Negative Predictive Value: \" + str(round(count_trueneg/(count_falseneg+count_trueneg)*100 , 3))+ \"% \\n\\n\"\n",
    "\n",
    "              \"Final overall goodness measures:\\n\"\n",
    "              \"Positive Likelihood Ratio: \" + str(round((count_truepos/mydict[str(i)])/(count_falsepos/invertdict[str(i)]) , 3)) + \"\\n\"\n",
    "              \"Negative Likelihood Ratio: \" + str(round((count_falseneg/mydict[str(i)])/(count_trueneg/invertdict[str(i)]), 3)) + \"\\n\"\n",
    "              \"Diagnostic Odds Ratio: \" + str(round(((count_truepos/mydict[str(i)])/(count_falsepos/invertdict[str(i)]))/((count_falseneg/mydict[str(i)])/(count_trueneg/invertdict[str(i)])) , 3)) + \"\\n\\n\"\n",
    "\n",
    "              #\"F1-Score: \" + str(round(2*((count_truepos/(count_truepos+count_falsepos))*count_truepos/mydict[str(i)])/((count_truepos/(count_truepos+count_falsepos))+count_truepos/mydict[str(i)]) , 3)) + \"\\n\\n\\n\"\n",
    "\n",
    "             , file = f)\n",
    "        \n",
    "    truesamples = mydict[str(i)]\n",
    "    falsesamples = invertdict[str(i)]\n",
    "    totalpop = len(testsamples)\n",
    "    truepred = count_true\n",
    "    falsepred = count_false\n",
    "    prevalence = truesamples/totalpop\n",
    "    accuracy = count_true/totalpop\n",
    "    truepos = count_truepos\n",
    "    falsepos = count_falsepos\n",
    "    falseneg = count_falseneg\n",
    "    trueneg = count_trueneg\n",
    "    recall = truepos/truesamples #TPR\n",
    "    fallout = falsepos/falsesamples #FPR\n",
    "    missrate = falseneg/truesamples #FNR\n",
    "    specificity = trueneg/falsesamples #TNR\n",
    "    totalpos = truepos + falsepos\n",
    "    precision = truepos/totalpos\n",
    "    FDR = falsepos/totalpos\n",
    "    totalneg = trueneg+ falseneg\n",
    "    FOR = falseneg/totalneg\n",
    "    NPV = trueneg /totalneg\n",
    "    LRpos = recall/fallout\n",
    "    LRneg = missrate/specificity\n",
    "    DOR = LRpos/LRneg\n",
    "    f1 = 2* (precision * recall)/(precision + recall)\n",
    "\n",
    "    dict_measures = {\n",
    "        'truesamples' : mydict[str(i)],\n",
    "        'falsesamples' : invertdict[str(i)],\n",
    "        'totalpop' : len(testsamples),\n",
    "        'truepred' : count_true,\n",
    "        'falsepred' : count_false,\n",
    "        'prevalence' : truesamples/totalpop,\n",
    "        'accuracy' : count_true/totalpop,\n",
    "        'truepos' :count_truepos,\n",
    "        'falsepos' : count_falsepos,\n",
    "        'falseneg' : count_falseneg,\n",
    "        'trueneg' :count_trueneg,\n",
    "        'recall' : truepos/truesamples,\n",
    "        'fallout' : falsepos/falsesamples,\n",
    "        'missrate' : falseneg/truesamples,\n",
    "        'specificity' : trueneg/falsesamples,\n",
    "        'totalpos' : truepos + falsepos,\n",
    "        'precision' : truepos/totalpos,\n",
    "        'FDR' : falsepos/totalpos,\n",
    "        'totalneg' : trueneg+ falseneg,\n",
    "        'FOR': falseneg/totalneg,\n",
    "        'NPV' : trueneg /totalneg,\n",
    "        'LRpos' : recall/fallout,\n",
    "        'LRneg' : missrate/specificity,\n",
    "        'DOR': LRpos/LRneg,\n",
    "        #'f1' : 2* (precision * recall)/(precision + recall),\n",
    "    }\n",
    "    with open('results/Integer_NN/'+str(N)+'/validation/Validation_Class_'+str(i)+'_dict.txt', 'w+') as f:\n",
    "        print(dict_measures, file = f)"
   ]
  },
  {
   "cell_type": "code",
   "execution_count": null,
   "metadata": {},
   "outputs": [],
   "source": [
    "i=3\n",
    "with open('results/Integer_NN/'+str(N)+'/Architecture_Class_'+str(i)+'.txt','r') as f:\n",
    "    reader = f.read()\n",
    "    classifier = eval(reader)\n",
    "    print(classifier['theta1'])"
   ]
  },
  {
   "cell_type": "code",
   "execution_count": 25,
   "metadata": {},
   "outputs": [
    {
     "name": "stdout",
     "output_type": "stream",
     "text": [
      "No° of true samples: 1010\n",
      "No° of false samples: 8990\n",
      "No° of true classifications: 1010\n",
      "No° of false classifications: 8990\n",
      "Prevalence: 0.101\n",
      "Accuracy: 0.101\n",
      "\n",
      "Confusion Matrix:\n",
      "      Pos:       Neg: \n",
      " Pos  1010       8990\n",
      " Neg  0       0\n",
      "\n",
      "Some measures of goodness for the given NN: \n",
      "True Positive Rate (Recall): 100.0%\n",
      "False Positive Rate (Fall-out): 100.0%\n",
      "False Negative Rate (Miss rate): 0.0% \n",
      "True Negative Rate (Specificity): 0.0%\n",
      "\n",
      "\n"
     ]
    }
   ],
   "source": [
    "print(\"No° of true samples: \" + str(mydict[str(i)])+\"\\n\"\n",
    "    \"No° of false samples: \" + str(invertdict[str(i)])+\"\\n\"\n",
    "    \"No° of true classifications: \" + str(count_true)+\"\\n\"\n",
    "    \"No° of false classifications: \" + str(count_false)+\"\\n\"\n",
    "    \"Prevalence: \" + str(mydict[str(i)]/len(testsamples))+\"\\n\"\n",
    "    \"Accuracy: \" + str(count_true/len(testsamples))+\"\\n\\n\"\n",
    "\n",
    "    \"Confusion Matrix:\\n\"\n",
    "    \"     \" + \" Pos: \" + \"     \" + \" Neg: \\n\"\n",
    "    \" Pos  \" + str(count_truepos) + \"       \" + str(count_falsepos)+\"\\n\"\n",
    "    \" Neg  \" + str(count_falseneg) + \"       \" + str(count_trueneg)+\"\\n\\n\"\n",
    "\n",
    "    \"Some measures of goodness for the given NN: \\n\"\n",
    "    \"True Positive Rate (Recall): \" + str(round(count_truepos/mydict[str(i)]*100 , 3)) + \"%\\n\"\n",
    "    \"False Positive Rate (Fall-out): \" + str(round(count_falsepos/invertdict[str(i)]*100 , 3))+\"%\\n\"\n",
    "    \"False Negative Rate (Miss rate): \" + str(round(count_falseneg/mydict[str(i)]*100 , 3)) + \"% \\n\"\n",
    "    \"True Negative Rate (Specificity): \" + str(round(count_trueneg/invertdict[str(i)]*100 , 3))+\"%\\n\\n\"\n",
    ")\n"
   ]
  },
  {
   "cell_type": "code",
   "execution_count": 117,
   "metadata": {},
   "outputs": [],
   "source": [
    "\n",
    "truesamples = mydict[str(i)]\n",
    "falsesamples = invertdict[str(i)]\n",
    "totalpop = len(testsamples)\n",
    "truepred = count_true\n",
    "falsepred = count_false\n",
    "prevalence = truesamples/totalpop\n",
    "accuracy = count_true/totalpop\n",
    "truepos = count_truepos\n",
    "falsepos = count_falsepos\n",
    "falseneg = count_falseneg\n",
    "trueneg = count_trueneg\n",
    "recall = truepos/truesamples #TPR\n",
    "fallout = falsepos/falsesamples #FPR\n",
    "missrate = falseneg/truesamples #FNR\n",
    "specificity = trueneg/falsesamples #TNR\n",
    "totalpos = truepos + falsepos\n",
    "precision = truepos/totalpos\n",
    "FDR = falsepos/totalpos\n",
    "totalneg = trueneg+ falseneg\n",
    "FOR = falseneg/totalneg\n",
    "NPV = trueneg /totalneg\n",
    "LRpos = recall/fallout\n",
    "LRneg = missrate/specificity\n",
    "DOR = LRpos/LRneg\n",
    "f1 = 2* (precision * recall)/(precision + recall)\n",
    "\n",
    "dict_measures = {\n",
    "    'truesamples' : mydict[str(i)],\n",
    "    'falsesamples' : invertdict[str(i)],\n",
    "    'totalpop' : len(testsamples),\n",
    "    'truepred' : count_true,\n",
    "    'falsepred' : count_false,\n",
    "    'prevalence' : truesamples/totalpop,\n",
    "    'accuracy' : count_true/totalpop,\n",
    "    'truepos' :count_truepos,\n",
    "    'falsepos' : count_falsepos,\n",
    "    'falseneg' : count_falseneg,\n",
    "    'trueneg' :count_trueneg,\n",
    "    'recall' : truepos/truesamples,\n",
    "    'fallout' : falsepos/falsesamples,\n",
    "    'missrate' : falseneg/truesamples,\n",
    "    'specificity' : trueneg/falsesamples,\n",
    "    'totalpos' : truepos + falsepos,\n",
    "    'precision' : truepos/totalpos,\n",
    "    'FDR' : falsepos/totalpos,\n",
    "    'totalneg' : trueneg+ falseneg,\n",
    "    'FOR': falseneg/totalneg,\n",
    "    'NPV' : trueneg /totalneg,\n",
    "    'LRpos' : recall/fallout,\n",
    "    'LRneg' : missrate/specificity,\n",
    "    'DOR': LRpos/LRneg,\n",
    "    'f1' : 2* (precision * recall)/(precision + recall),\n",
    "}\n",
    "with open('result'+str(i)+'_dict.txt', 'w+') as f:\n",
    "    print(dict_measures, file = f)\n"
   ]
  },
  {
   "cell_type": "code",
   "execution_count": 17,
   "metadata": {},
   "outputs": [
    {
     "data": {
      "text/plain": [
       "(28, 28)"
      ]
     },
     "execution_count": 17,
     "metadata": {},
     "output_type": "execute_result"
    }
   ],
   "source": [
    "import matplotlib.pyplot as plt\n",
    "plt.imshow(test_images[0])\n",
    "test_images[0].shape"
   ]
  },
  {
   "cell_type": "code",
   "execution_count": 35,
   "metadata": {
    "scrolled": false
   },
   "outputs": [
    {
     "name": "stdout",
     "output_type": "stream",
     "text": [
      "First Layer Perception of Neurons for Class 0:\n"
     ]
    },
    {
     "data": {
      "image/png": "[encoded data removed]",
      "text/plain": [
       "<matplotlib.figure.Figure at 0x1f1cdbb0e48>"
      ]
     },
     "metadata": {},
     "output_type": "display_data"
    }
   ],
   "source": [
    "N=1000\n",
    "for i in range(1):\n",
    "    with open('results/Integer_NN/'+str(N)+'/Architecture_Class_'+str(i)+'.txt','r') as f:\n",
    "        reader = f.read()\n",
    "        classifier = eval(reader)\n",
    "        schemalist = [[] for _ in range(10)]\n",
    "        for key, val in classifier['w1'].items():\n",
    "            for s in range(10):\n",
    "                if int(key[1]) == s and val != 0:\n",
    "                    schemalist[s].append((key[0],key[1],val))\n",
    "        #print(schemalist, \"\\n\")\n",
    "\n",
    "        nvision = []\n",
    "        for neuron in schemalist:\n",
    "            perception = np.zeros((28,28))\n",
    "            for n in neuron:\n",
    "                perception[int(n[0]/28),n[0]%28] = n[2]\n",
    "            nvision.append(perception)\n",
    "\n",
    "        print(\"First Layer Perception of Neurons for Class \"+ str(i)+\":\")\n",
    "        fig=plt.figure(figsize=(10, 10))\n",
    "        columns = 5\n",
    "        rows = 2\n",
    "        for l in range(1, columns*rows+1):\n",
    "            fig.add_subplot(rows, columns, l)\n",
    "            plt.imshow(nvision[l-1])\n",
    "        plt.show()\n",
    "        fig.savefig('results/Integer_NN/'+str(N)+'/validation/figs/INTEGER_NN_Class_'+str(i)+'.png', bbox_inches='tight')"
   ]
  },
  {
   "cell_type": "code",
   "execution_count": 23,
   "metadata": {},
   "outputs": [
    {
     "name": "stdout",
     "output_type": "stream",
     "text": [
      "First Layer Perception of Neurons for Class 5:\n"
     ]
    },
    {
     "data": {
      "image/png": "[encoded data removed]",
      "text/plain": [
       "<matplotlib.figure.Figure at 0x2621713bbe0>"
      ]
     },
     "metadata": {},
     "output_type": "display_data"
    }
   ],
   "source": [
    "i = 5\n",
    "schemalist = [[] for _ in range(10)]\n",
    "for key, val in classifier[str(i)]['w1'].items():\n",
    "    for s in range(10):\n",
    "        if int(key[1]) == s and val != 0:\n",
    "            schemalist[s].append((key[0],key[1],val))\n",
    "#print(schemalist, \"\\n\")\n",
    "\n",
    "nvision = []\n",
    "for neuron in schemalist:\n",
    "    perception = np.zeros((28,28))\n",
    "    for n in neuron:\n",
    "        perception[int(n[0]/28),n[0]%28] = n[2]\n",
    "    nvision.append(perception)\n",
    "\n",
    "print(\"First Layer Perception of Neurons for Class \"+ str(i)+\":\")\n",
    "fig=plt.figure(figsize=(10, 10))\n",
    "columns = 5\n",
    "rows = 2\n",
    "for l in range(1, columns*rows+1):\n",
    "    fig.add_subplot(rows, columns, l)\n",
    "    plt.imshow(nvision[l-1])\n",
    "plt.show()\n"
   ]
  },
  {
   "cell_type": "code",
   "execution_count": 24,
   "metadata": {},
   "outputs": [
    {
     "name": "stdout",
     "output_type": "stream",
     "text": [
      "[(0, 2, 1.0), (1, 9, 1.0), (2, 9, 1.0), (3, 9, 1.0), (4, 4, 1.0), (5, 9, 1.0), (6, 9, 1.0), (7, 1, 1.0), (8, 9, 1.0), (9, 2, 1.0), (9, 9, 1.0)]\n",
      "\n"
     ]
    }
   ],
   "source": [
    "i = 5\n",
    "schemalist_w2 = []\n",
    "for key, val in classifier[str(i)]['w2'].items():\n",
    "    for s in range(10):\n",
    "        if int(key[1]) == s and val != 0:\n",
    "            schemalist_w2.append((key[0],key[1],val))\n",
    "\n",
    "for i in range(10):\n",
    "    for j in schemalist_w2:\n",
    "        if i[1] == \n",
    "    print()"
   ]
  },
  {
   "cell_type": "code",
   "execution_count": null,
   "metadata": {},
   "outputs": [],
   "source": []
  }
 ],
 "metadata": {
  "kernelspec": {
   "display_name": "Python 3",
   "language": "python",
   "name": "python3"
  },
  "language_info": {
   "codemirror_mode": {
    "name": "ipython",
    "version": 3
   },
   "file_extension": ".py",
   "mimetype": "text/x-python",
   "name": "python",
   "nbconvert_exporter": "python",
   "pygments_lexer": "ipython3",
   "version": "3.6.4"
  }
 },
 "nbformat": 4,
 "nbformat_minor": 2
}
